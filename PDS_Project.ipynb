{
 "cells": [
  {
   "cell_type": "code",
   "execution_count": null,
   "id": "e745477e",
   "metadata": {},
   "outputs": [
    {
     "ename": "",
     "evalue": "",
     "output_type": "error",
     "traceback": [
      "\u001b[1;31mRunning cells with 'venv (Python 3.11.11)' requires the ipykernel package.\n",
      "\u001b[1;31mRun the following command to install 'ipykernel' into the Python environment. \n",
      "\u001b[1;31mCommand: '\"c:/Users/91949/OneDrive/Desktop/SEMS/SEM 6/PDS/PDS Project/GITHUB_Project/RetailStoreInventory/venv/Scripts/python.exe\" -m pip install ipykernel -U --force-reinstall'"
     ]
    }
   ],
   "source": [
    "pip install missingno"
   ]
  },
  {
   "cell_type": "code",
   "execution_count": null,
   "id": "b1d158c4",
   "metadata": {},
   "outputs": [],
   "source": [
    "# Import required libraries\n",
    "import pandas as pd\n",
    "import numpy as np\n",
    "import seaborn as sns\n",
    "import matplotlib.pyplot as plt\n",
    "import missingno as msno\n",
    "from scipy.stats import zscore, probplot\n",
    "\n",
    "# Enable inline plotting for Jupyter Notebook\n",
    "%matplotlib inline\n"
   ]
  },
  {
   "cell_type": "code",
   "execution_count": null,
   "id": "1831ad9b",
   "metadata": {},
   "outputs": [],
   "source": [
    "df = pd.read_csv('retail_store_inventory.csv')\n",
    "print(df.shape)\n",
    "df.head()"
   ]
  },
  {
   "cell_type": "markdown",
   "id": "4a7a02c8",
   "metadata": {},
   "source": [
    "Basic Info and Summary"
   ]
  },
  {
   "cell_type": "code",
   "execution_count": null,
   "id": "798b445f",
   "metadata": {},
   "outputs": [],
   "source": [
    "# Display basic dataset information\n",
    "print(\"Basic Info:\")\n",
    "print(df.info())\n",
    "\n",
    "# Summary statistics for numerical columns\n",
    "print(\"\\nSummary Statistics:\")\n",
    "display(df.describe())\n"
   ]
  },
  {
   "cell_type": "markdown",
   "id": "1e57414c",
   "metadata": {},
   "source": [
    "Checking and Visualizing the Missing Values"
   ]
  },
  {
   "cell_type": "code",
   "execution_count": null,
   "id": "a4e29f15",
   "metadata": {},
   "outputs": [],
   "source": [
    "# Visualizing missing values using missingno\n",
    "msno.matrix(df)\n",
    "plt.title(\"Missing Values Matrix\")\n",
    "plt.show()\n",
    "\n",
    "# Checking missing value statistics\n",
    "missing_values = df.isnull().sum()\n",
    "missing_percent = (missing_values / len(df)) * 100\n",
    "missing_data = pd.DataFrame({\"Missing Values\": missing_values, \"Percentage\": missing_percent})\n",
    "\n",
    "# Display only columns with missing values\n",
    "print(\"\\nMissing Value Statistics:\")\n",
    "display(missing_data[missing_data[\"Missing Values\"] > 0])\n"
   ]
  },
  {
   "cell_type": "code",
   "execution_count": null,
   "id": "06aa5ff3",
   "metadata": {},
   "outputs": [],
   "source": [
    "# Count missing values per column\n",
    "missing_values = df.isnull().sum()\n",
    "\n",
    "# Print only columns with missing values\n",
    "print(\"Missing Values Count:\")\n",
    "print(missing_values[missing_values > 0])\n"
   ]
  },
  {
   "cell_type": "code",
   "execution_count": null,
   "id": "f6911090",
   "metadata": {},
   "outputs": [],
   "source": [
    "df.duplicated().sum()"
   ]
  },
  {
   "cell_type": "code",
   "execution_count": null,
   "id": "954e9a1d",
   "metadata": {},
   "outputs": [],
   "source": [
    "import pandas as pd\n",
    "\n",
    "# Convert 'Date' to datetime\n",
    "df['Date'] = pd.to_datetime(df['Date'])\n",
    "\n",
    "# Sort by Date\n",
    "df = df.sort_values(by='Date')\n",
    "\n",
    "# Apply Moving Averages\n",
    "df['Units_Sold_MA7'] = df['Units Sold'].rolling(window=7).mean()\n",
    "df['Units_Sold_MA14'] = df['Units Sold'].rolling(window=14).mean()\n",
    "\n",
    "\n",
    "df['Units_Ordered_MA7'] = df['Units Ordered'].rolling(window=7).mean()\n",
    "df['Units_Ordered_MA14'] = df['Units Ordered'].rolling(window=14).mean()\n",
    "\n",
    "df['Demand_Forecast_MA7'] = df['Demand Forecast'].rolling(window=7).mean()\n",
    "df['Demand_Forecast_MA14'] = df['Demand Forecast'].rolling(window=14).mean()\n",
    "\n",
    "df['Price_MA7'] = df['Price'].rolling(window=7).mean()\n",
    "df['Price_MA14'] = df['Price'].rolling(window=14).mean()\n",
    "\n",
    "df['Competitor_Pricing_MA7'] = df['Competitor Pricing'].rolling(window=7).mean()\n",
    "df['Competitor_Pricing_MA14'] = df['Competitor Pricing'].rolling(window=14).mean()\n",
    "\n",
    "# Drop initial NaN values from rolling averages\n",
    "df.dropna(inplace=True)\n",
    "\n",
    "# Check updated dataset\n",
    "print(df.head())\n"
   ]
  },
  {
   "cell_type": "code",
   "execution_count": null,
   "id": "0c3f2f3f",
   "metadata": {},
   "outputs": [],
   "source": [
    "import seaborn as sns\n",
    "import matplotlib.pyplot as plt\n",
    "\n",
    "# Select only numeric columns\n",
    "numeric_cols = df.select_dtypes(include=['number'])\n",
    "\n",
    "# Compute correlation matrix\n",
    "corr_matrix = numeric_cols.corr()\n",
    "\n",
    "# Set up the matplotlib figure\n",
    "plt.figure(figsize=(12, 8))\n",
    "\n",
    "# Generate heatmap\n",
    "sns.heatmap(corr_matrix, annot=True, cmap='coolwarm', fmt=\".2f\", linewidths=0.5)\n",
    "\n",
    "# Set title\n",
    "plt.title(\"Correlation Heatmap of Features\", fontsize=14)\n",
    "\n",
    "# Show plot\n",
    "plt.show()\n"
   ]
  },
  {
   "cell_type": "markdown",
   "id": "4a8b7700",
   "metadata": {},
   "source": [
    "# Checking whether outliers are present or not "
   ]
  },
  {
   "cell_type": "code",
   "execution_count": null,
   "id": "39662e6c",
   "metadata": {},
   "outputs": [],
   "source": [
    "from scipy.stats import zscore\n",
    "\n",
    "# Select numeric columns\n",
    "numeric_cols = df.select_dtypes(include=['number']).columns\n",
    "\n",
    "# Compute absolute Z-scores\n",
    "z_scores = np.abs(zscore(df[numeric_cols]))\n",
    "\n",
    "# Identify outliers (Z-score > 3)\n",
    "outliers = df[(z_scores > 3).any(axis=1)]\n",
    "\n",
    "print(f\"Number of Outliers Detected: {len(outliers)}\")\n"
   ]
  },
  {
   "cell_type": "markdown",
   "id": "c981b558",
   "metadata": {},
   "source": [
    "IQR Method"
   ]
  },
  {
   "cell_type": "code",
   "execution_count": null,
   "id": "4033fc44",
   "metadata": {},
   "outputs": [],
   "source": [
    "# Calculate Q1, Q3, and IQR for all numeric columns\n",
    "Q1 = df[numeric_cols].quantile(0.25)\n",
    "Q3 = df[numeric_cols].quantile(0.75)\n",
    "IQR = Q3 - Q1\n",
    "\n",
    "# Identify outliers (values outside 1.5*IQR range)\n",
    "outliers = ((df[numeric_cols] < (Q1 - 1.5 * IQR)) | (df[numeric_cols] > (Q3 + 1.5 * IQR)))\n",
    "\n",
    "# Count the number of outliers per column\n",
    "print(outliers.sum())\n"
   ]
  },
  {
   "cell_type": "markdown",
   "id": "6c30d245",
   "metadata": {},
   "source": [
    "Box Plot"
   ]
  },
  {
   "cell_type": "code",
   "execution_count": null,
   "id": "7cd325cb",
   "metadata": {},
   "outputs": [],
   "source": [
    "import seaborn as sns\n",
    "import matplotlib.pyplot as plt\n",
    "\n",
    "# Boxplot for all numeric features\n",
    "plt.figure(figsize=(10, 6))\n",
    "sns.boxplot(data=df[numeric_cols])\n",
    "plt.xticks(rotation=90)  # Rotate x-axis labels for better visibility\n",
    "plt.title(\"Boxplot for Outlier Detection\")\n",
    "plt.show()\n"
   ]
  },
  {
   "cell_type": "markdown",
   "id": "eb164cfb",
   "metadata": {},
   "source": [
    "Histogram Plot"
   ]
  },
  {
   "cell_type": "code",
   "execution_count": null,
   "id": "8790d7bd",
   "metadata": {},
   "outputs": [],
   "source": [
    "# Histogram for 'Demand Forecast'\n",
    "plt.figure(figsize=(8, 6))\n",
    "sns.histplot(df['Demand Forecast'], kde=True)\n",
    "plt.title(\"Distribution of Demand Forecast\")\n",
    "plt.show()\n"
   ]
  },
  {
   "cell_type": "code",
   "execution_count": null,
   "id": "6dfc6f9e",
   "metadata": {},
   "outputs": [],
   "source": [
    "print(df['Demand Forecast'].max())"
   ]
  },
  {
   "cell_type": "code",
   "execution_count": null,
   "id": "0f0b57ee",
   "metadata": {},
   "outputs": [],
   "source": [
    "print(df['Demand Forecast'].min())"
   ]
  },
  {
   "cell_type": "code",
   "execution_count": null,
   "id": "b944b964",
   "metadata": {},
   "outputs": [],
   "source": [
    "print(df.shape)\n",
    "df = df[df['Demand Forecast'] >= 0]  # Remove negative values\n",
    "print(df.shape)\n"
   ]
  },
  {
   "cell_type": "code",
   "execution_count": null,
   "id": "34fba765",
   "metadata": {},
   "outputs": [],
   "source": [
    "print(df.shape)\n",
    "df = df[df['Units Sold'] <= df['Inventory Level']]  # Remove impossible sales cases\n",
    "print(df.shape)"
   ]
  },
  {
   "cell_type": "code",
   "execution_count": null,
   "id": "c5fd1183",
   "metadata": {},
   "outputs": [],
   "source": [
    "from scipy.stats.mstats import winsorize\n",
    "\n",
    "# Apply winsorization to Demand Forecast\n",
    "df['Demand Forecast'] = winsorize(df['Demand Forecast'], limits=[0.05, 0.05])  # Capping bottom and top 5%\n",
    "\n",
    "# Optional: Apply to other variables like 'Units Sold' if needed\n",
    "df['Units Sold'] = winsorize(df['Units Sold'], limits=[0.05, 0.05])\n",
    "df.head()"
   ]
  },
  {
   "cell_type": "code",
   "execution_count": null,
   "id": "8263b08c",
   "metadata": {},
   "outputs": [],
   "source": [
    "print(df.shape)"
   ]
  },
  {
   "cell_type": "code",
   "execution_count": null,
   "id": "e55a7b42",
   "metadata": {},
   "outputs": [],
   "source": [
    "print(df['Demand Forecast'].max())"
   ]
  },
  {
   "cell_type": "code",
   "execution_count": null,
   "id": "e59ae35f",
   "metadata": {},
   "outputs": [],
   "source": [
    "print(df['Demand Forecast'].min())"
   ]
  },
  {
   "cell_type": "code",
   "execution_count": null,
   "id": "e2eaef56",
   "metadata": {},
   "outputs": [],
   "source": [
    "import seaborn as sns\n",
    "import matplotlib.pyplot as plt\n",
    "\n",
    "sns.histplot(df['Demand Forecast'], bins=30, kde=True)\n",
    "plt.title(\"Demand Forecast Distribution After Winsorization\")\n",
    "plt.show()\n"
   ]
  },
  {
   "cell_type": "code",
   "execution_count": null,
   "id": "dfed0195",
   "metadata": {},
   "outputs": [],
   "source": [
    "# Selecting only numerical columns for correlation\n",
    "numeric_df = df.select_dtypes(include=['number'])\n",
    "\n",
    "# Compute the correlation matrix\n",
    "corr_matrix = numeric_df.corr()\n",
    "\n",
    "# Plot the heatmap\n",
    "plt.figure(figsize=(12, 8))\n",
    "sns.heatmap(corr_matrix, annot=True, fmt=\".2f\", cmap=\"coolwarm\", linewidths=0.5)\n",
    "plt.title(\"Correlation Heatmap of Retail Inventory Dataset\")\n",
    "plt.show()\n"
   ]
  },
  {
   "cell_type": "code",
   "execution_count": null,
   "id": "a0381369",
   "metadata": {},
   "outputs": [],
   "source": []
  }
 ],
 "metadata": {
  "kernelspec": {
   "display_name": "venv",
   "language": "python",
   "name": "python3"
  },
  "language_info": {
   "codemirror_mode": {
    "name": "ipython",
    "version": 3
   },
   "file_extension": ".py",
   "mimetype": "text/x-python",
   "name": "python",
   "nbconvert_exporter": "python",
   "pygments_lexer": "ipython3",
   "version": "3.11.11"
  }
 },
 "nbformat": 4,
 "nbformat_minor": 5
}
